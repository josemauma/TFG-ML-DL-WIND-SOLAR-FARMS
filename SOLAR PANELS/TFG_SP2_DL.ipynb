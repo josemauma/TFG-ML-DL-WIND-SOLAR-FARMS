{
 "cells": [
  {
   "cell_type": "code",
   "execution_count": 1,
   "metadata": {},
   "outputs": [],
   "source": [
    "import pandas as pd\n",
    "import numpy as np\n",
    "import matplotlib.pyplot as plt\n",
    "import seaborn as sns\n",
    "\n",
    "from sklearn.model_selection import KFold\n",
    "from sklearn.preprocessing import MinMaxScaler\n",
    "from tensorflow.keras.regularizers import l2\n",
    "from tensorflow.keras.layers import Dense, Dropout\n",
    "from tensorflow.keras.models import Sequential\n",
    "from tensorflow.keras.callbacks import EarlyStopping\n",
    "from sklearn.metrics import mean_squared_error, mean_absolute_error, r2_score\n",
    "from tensorflow.keras.losses import MeanSquaredError\n",
    "from tensorflow.keras.metrics import MeanAbsoluteError\n",
    "import joblib\n"
   ]
  },
  {
   "cell_type": "code",
   "execution_count": 2,
   "metadata": {},
   "outputs": [
    {
     "name": "stdout",
     "output_type": "stream",
     "text": [
      "Valores nulos en cada columna (planta 2):\n",
      " DATE_TIME              0\n",
      "SOURCE_KEY             0\n",
      "DC_POWER               0\n",
      "AC_POWER               0\n",
      "DAILY_YIELD            0\n",
      "TOTAL_YIELD            0\n",
      "AMBIENT_TEMPERATURE    0\n",
      "MODULE_TEMPERATURE     0\n",
      "IRRADIATION            0\n",
      "dtype: int64\n"
     ]
    }
   ],
   "source": [
    "# Cargar los datos de generación y meteorológicos para la planta 2\n",
    "plant_2_generation = pd.read_csv('Plant_2_Generation_Data.csv')\n",
    "plant_2_weather = pd.read_csv('Plant_2_Weather_Sensor_Data.csv')\n",
    "\n",
    "# Copiar los datos de generación para mantener df_GD2 limpio\n",
    "df_GD2 = plant_2_generation.copy()\n",
    "\n",
    "# Aplicar el mapeo a los nombres de los paneles solares\n",
    "unique_source_keys_list_2 = df_GD2['SOURCE_KEY'].unique()\n",
    "source_key_mapping_2 = {key: f\"Solar_Panel_{i+1}\" for i, key in enumerate(unique_source_keys_list_2)}\n",
    "df_GD2['SOURCE_KEY'] = df_GD2['SOURCE_KEY'].map(source_key_mapping_2)\n",
    "\n",
    "# Convertir la columna 'DATE_TIME' a formato de fecha y hora\n",
    "# Ajustar el formato de fecha según sea necesario para que coincida con el archivo de la planta 2\n",
    "df_GD2['DATE_TIME'] = pd.to_datetime(df_GD2['DATE_TIME'], format='%Y-%m-%d %H:%M:%S')\n",
    "plant_2_weather['DATE_TIME'] = pd.to_datetime(plant_2_weather['DATE_TIME'], format='%Y-%m-%d %H:%M:%S')\n",
    "\n",
    "# Unir los datos meteorológicos al dataframe de generación en función de la fecha y hora\n",
    "df_GD2_with_weather = pd.merge(df_GD2, plant_2_weather, on='DATE_TIME', how='left')\n",
    "\n",
    "# Eliminar las columnas PLANT_ID_y y SOURCE_KEY_y y renombrar las columnas PLANT_ID_x y SOURCE_KEY_x\n",
    "df_GD2_with_weather_clean = df_GD2_with_weather.drop(columns=['PLANT_ID_y', 'SOURCE_KEY_y', 'PLANT_ID_x'])\n",
    "\n",
    "# Renombrar las columnas para eliminar el sufijo '_x'\n",
    "df_GD2_with_weather_clean = df_GD2_with_weather_clean.rename(columns={'SOURCE_KEY_x': 'SOURCE_KEY'})\n",
    "\n",
    "# Mostrar cuántos valores nulos hay por columna\n",
    "nulos2 = df_GD2_with_weather_clean.isnull().sum()\n",
    "print(\"Valores nulos en cada columna (planta 2):\\n\", nulos2)\n",
    "\n",
    "# Rellenar los valores nulos en solo las columnas numéricas con la media\n",
    "numerical_cols_2 = df_GD2_with_weather_clean.select_dtypes(include=['float64', 'int64']).columns\n",
    "df_GD2_with_weather_clean[numerical_cols_2] = df_GD2_with_weather_clean[numerical_cols_2].fillna(df_GD2_with_weather_clean[numerical_cols_2].mean())\n",
    "\n",
    "# Guardar el dataframe limpio de la planta 2\n",
    "df_GD2_limpio = df_GD2_with_weather_clean"
   ]
  },
  {
   "cell_type": "code",
   "execution_count": 3,
   "metadata": {},
   "outputs": [
    {
     "name": "stderr",
     "output_type": "stream",
     "text": [
      "/opt/anaconda3/lib/python3.12/site-packages/keras/src/layers/core/dense.py:87: UserWarning: Do not pass an `input_shape`/`input_dim` argument to a layer. When using Sequential models, prefer using an `Input(shape)` object as the first layer in the model instead.\n",
      "  super().__init__(activity_regularizer=activity_regularizer, **kwargs)\n",
      "/opt/anaconda3/lib/python3.12/site-packages/keras/src/layers/core/dense.py:87: UserWarning: Do not pass an `input_shape`/`input_dim` argument to a layer. When using Sequential models, prefer using an `Input(shape)` object as the first layer in the model instead.\n",
      "  super().__init__(activity_regularizer=activity_regularizer, **kwargs)\n",
      "/opt/anaconda3/lib/python3.12/site-packages/keras/src/layers/core/dense.py:87: UserWarning: Do not pass an `input_shape`/`input_dim` argument to a layer. When using Sequential models, prefer using an `Input(shape)` object as the first layer in the model instead.\n",
      "  super().__init__(activity_regularizer=activity_regularizer, **kwargs)\n",
      "/opt/anaconda3/lib/python3.12/site-packages/keras/src/layers/core/dense.py:87: UserWarning: Do not pass an `input_shape`/`input_dim` argument to a layer. When using Sequential models, prefer using an `Input(shape)` object as the first layer in the model instead.\n",
      "  super().__init__(activity_regularizer=activity_regularizer, **kwargs)\n",
      "/opt/anaconda3/lib/python3.12/site-packages/keras/src/layers/core/dense.py:87: UserWarning: Do not pass an `input_shape`/`input_dim` argument to a layer. When using Sequential models, prefer using an `Input(shape)` object as the first layer in the model instead.\n",
      "  super().__init__(activity_regularizer=activity_regularizer, **kwargs)\n"
     ]
    },
    {
     "name": "stdout",
     "output_type": "stream",
     "text": [
      "MSE en cada fold: [53.71696853637695, 49.55852508544922, 53.03296661376953, 61.07216262817383, 56.88442611694336]\n",
      "MSE promedio en validación cruzada: 54.85300979614258\n",
      "MAE en cada fold: [2.221435070037842, 2.3739919662475586, 2.096947193145752, 2.8867104053497314, 2.463996171951294]\n",
      "MAE promedio en validación cruzada: 2.4086161613464356\n",
      "R² en cada fold: [0.9998718744173271, 0.9998696875905188, 0.9998739189517933, 0.9998284905135796, 0.9998678678876641]\n",
      "R² promedio en validación cruzada: 0.9998623678721765\n"
     ]
    }
   ],
   "source": [
    "features = ['AC_POWER', 'DAILY_YIELD', 'TOTAL_YIELD','AMBIENT_TEMPERATURE', \n",
    "            'MODULE_TEMPERATURE', 'IRRADIATION']\n",
    "# Definir X (variables predictoras) y Y (variable objetivo)\n",
    "X_ker = df_GD2_limpio[features].values\n",
    "Y_ker = df_GD2_limpio['DC_POWER'].values\n",
    "\n",
    "kf = KFold(n_splits=5, shuffle=True, random_state=42)\n",
    "mse_scores = []\n",
    "mae_scores = []\n",
    "r2_scores = []\n",
    "\n",
    "for train_index, test_index in kf.split(X_ker):\n",
    "    X_train_ker, X_test_ker = X_ker[train_index], X_ker[test_index]\n",
    "    Y_train_ker, Y_test_ker = Y_ker[train_index], Y_ker[test_index]\n",
    "    \n",
    "    scaler_ker = MinMaxScaler()\n",
    "    X_train_ker = scaler_ker.fit_transform(X_train_ker)\n",
    "    X_test_ker = scaler_ker.transform(X_test_ker)\n",
    "    joblib.dump(scaler_ker, 'scaler_ker2.pkl')\n",
    "    \n",
    "    \n",
    "    model = Sequential()\n",
    "    model.add(Dense(128, activation='relu', input_shape=(X_train_ker.shape[1],), kernel_regularizer=l2(0.05)))\n",
    "    model.add(Dropout(0.3))\n",
    "    model.add(Dense(64, activation='relu', kernel_regularizer=l2(0.05)))\n",
    "    model.add(Dropout(0.3))\n",
    "    model.add(Dense(32, activation='relu', kernel_regularizer=l2(0.05)))\n",
    "    model.add(Dense(1))\n",
    "    \n",
    "    model.compile(optimizer='adam', loss=MeanSquaredError(), metrics=[MeanAbsoluteError()])\n",
    "    \n",
    "    early_stop = EarlyStopping(monitor='val_loss', patience=10, restore_best_weights=True)\n",
    "    history = model.fit(X_train_ker, Y_train_ker, epochs=100, batch_size=32, verbose=0,validation_data=(X_test_ker, Y_test_ker), callbacks=[early_stop])\n",
    "    \n",
    "    mse, mae = model.evaluate(X_test_ker, Y_test_ker, verbose=0)\n",
    "    mse_scores.append(mse)\n",
    "    mae_scores.append(mae)\n",
    "    \n",
    "    Y_test_pred = model.predict(X_test_ker, verbose=0)\n",
    "    r2 = r2_score(Y_test_ker, Y_test_pred)\n",
    "    r2_scores.append(r2)\n",
    "  \n",
    "\n",
    "print(\"MSE en cada fold:\", mse_scores)\n",
    "print(\"MSE promedio en validación cruzada:\", np.mean(mse_scores))\n",
    "print(\"MAE en cada fold:\", mae_scores)\n",
    "print(\"MAE promedio en validación cruzada:\", np.mean(mae_scores))\n",
    "print(\"R² en cada fold:\", r2_scores)\n",
    "print(\"R² promedio en validación cruzada:\", np.mean(r2_scores))\n"
   ]
  },
  {
   "cell_type": "markdown",
   "metadata": {},
   "source": [
    "MSE en cada fold: [62.32850646972656, 73.07862091064453, 103.7606201171875, 90.55905151367188, 56.519134521484375]\n",
    "\n",
    "MSE promedio en validación cruzada: 77.24918670654297\n",
    "\n",
    "MAE en cada fold: [2.724015951156616, 3.6545634269714355, 4.477487564086914, 4.092912197113037, 2.367548942565918]\n",
    "\n",
    "MAE promedio en validación cruzada: 3.463305616378784\n",
    "\n",
    "R² en cada fold: [0.9998338355572783, 0.9997193536561324, 0.9994696329800683, 0.9995921764835287, 0.999880124775671]\n",
    "\n",
    "R² promedio en validación cruzada: 0.9996990246905357"
   ]
  },
  {
   "cell_type": "code",
   "execution_count": 4,
   "metadata": {},
   "outputs": [
    {
     "name": "stderr",
     "output_type": "stream",
     "text": [
      "WARNING:absl:You are saving your model as an HDF5 file via `model.save()` or `keras.saving.save_model(model)`. This file format is considered legacy. We recommend using instead the native Keras format, e.g. `model.save('my_model.keras')` or `keras.saving.save_model(model, 'my_model.keras')`. \n"
     ]
    }
   ],
   "source": [
    "model.save('Modelo_SP2.h5')"
   ]
  }
 ],
 "metadata": {
  "kernelspec": {
   "display_name": "base",
   "language": "python",
   "name": "python3"
  },
  "language_info": {
   "codemirror_mode": {
    "name": "ipython",
    "version": 3
   },
   "file_extension": ".py",
   "mimetype": "text/x-python",
   "name": "python",
   "nbconvert_exporter": "python",
   "pygments_lexer": "ipython3",
   "version": "3.12.4"
  }
 },
 "nbformat": 4,
 "nbformat_minor": 2
}
